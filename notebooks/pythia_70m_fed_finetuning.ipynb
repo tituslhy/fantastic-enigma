{
  "cells": [
    {
      "cell_type": "code",
      "execution_count": null,
      "id": "e1d479b5",
      "metadata": {
        "id": "e1d479b5"
      },
      "outputs": [],
      "source": [
        "%load_ext autoreload\n",
        "%autoreload 2"
      ]
    },
    {
      "cell_type": "code",
      "execution_count": null,
      "id": "8f4d58c2",
      "metadata": {
        "id": "8f4d58c2"
      },
      "outputs": [],
      "source": [
        "import os\n",
        "from dotenv import load_dotenv, find_dotenv\n",
        "import warnings\n",
        "warnings.filterwarnings(\"ignore\")\n",
        "\n",
        "_ = load_dotenv(find_dotenv())\n",
        "os.environ[\"HF_ACCESS_TOKEN\"] = os.getenv(\"HUGGINGFACE_ACCESS_TOKEN\")\n",
        "os.environ[\"TOKENIZERS_PARALLELISM\"] = \"true\""
      ]
    },
    {
      "cell_type": "code",
      "execution_count": null,
      "id": "acc6da56",
      "metadata": {
        "id": "acc6da56"
      },
      "outputs": [],
      "source": [
        "import flwr as fl"
      ]
    },
    {
      "cell_type": "markdown",
      "id": "5d76ff75",
      "metadata": {
        "id": "5d76ff75"
      },
      "source": [
        "## 🧑‍🍳 Step 1: Grab the Recipe — Load Your Training Configuration\n",
        "\n",
        "Every great dish starts with a recipe — and in this notebook, that recipe is your config file.\n",
        "\n",
        "In this step, we’re using Hydra to load a YAML configuration that defines all the key ingredients and settings for your federated fine-tuning experiment. Think of it as pulling out the instruction card before cooking.\n",
        "\n",
        "📦 What this does:\n",
        "- Loads a configuration file (in this case, federated_7b.yml) using Hydra.\n",
        "- Prints out the full config in a readable YAML format, thanks to OmegaConf.\n",
        "\n",
        "> Technically you can use `yaml.load()` too because we are using single, static files. Using Hydra allows us to work with more complex, hierarchical nested structures and dynamically override parts of the config from CLI or code like: `python train.py model=transformer optimizer=adam`"
      ]
    },
    {
      "cell_type": "code",
      "execution_count": 1,
      "id": "281e1ce5",
      "metadata": {
        "id": "281e1ce5"
      },
      "outputs": [],
      "source": [
        "from hydra import compose, initialize\n",
        "from omegaconf import DictConfig, OmegaConf\n",
        "\n",
        "def get_config(config_name: str, config_path: str = \"../config/\"):\n",
        "    with initialize(config_path=config_path, version_base=\"1.1\"):\n",
        "        cfg = compose(config_name=config_name)\n",
        "\n",
        "    return cfg\n",
        "\n",
        "def print_config(config: DictConfig):\n",
        "    print(OmegaConf.to_yaml(config))"
      ]
    },
    {
      "cell_type": "code",
      "execution_count": 2,
      "id": "ba89bec1",
      "metadata": {
        "id": "ba89bec1"
      },
      "outputs": [
        {
          "name": "stderr",
          "output_type": "stream",
          "text": [
            "/Users/tituslim/Documents/Personal Learning Folder/Personal Projects/fantastic-enigma/.venv/lib/python3.12/site-packages/hydra/plugins/config_source.py:125: UserWarning: Support for .yml files is deprecated. Use .yaml extension for Hydra config files\n",
            "  deprecation_warning(\n"
          ]
        }
      ],
      "source": [
        "cfg = get_config(\"federated_small.yml\")"
      ]
    },
    {
      "cell_type": "code",
      "execution_count": 3,
      "id": "d6bbeac5",
      "metadata": {},
      "outputs": [
        {
          "data": {
            "text/plain": [
              "{'dataset': {'name': 'medalpaca/medical_meadow_medical_flashcards'}, 'model': {'name': 'EleutherAI/pythia-70m', 'quantization': 4, 'gradient_checkpointing': True, 'use_fast_tokenizer': True, 'lora': {'peft_lora_r': 16, 'peft_lora_alpha': 64, 'target_modules': None}}, 'train': {'num_rounds': '${flower.num_rounds}', 'save_every_round': 5, 'learning_rate_max': 5e-05, 'learning_rate_min': 1e-06, 'seq_length': 512, 'padding_side': 'left', 'evaluate_split': False, 'training_arguments': {'output_dir': None, 'learning_rate': None, 'per_device_train_batch_size': 2, 'gradient_accumulation_steps': 1, 'logging_steps': 5, 'num_train_epochs': 1, 'report_to': 'wandb', 'run_name': 'pythia_70m_fedSFT_take3', 'save_steps': 1000, 'save_total_limit': 10, 'gradient_checkpointing': '${model.gradient_checkpointing}', 'lr_scheduler_type': 'constant'}}, 'flower': {'num_clients': 20, 'num_rounds': 2, 'fraction_fit': 0.2, 'client_resources': {'num_cpus': 4, 'num_gpus': 1.0}, 'dp': {'noise_mult': 0.02, 'clip_norm': 0.5}}}"
            ]
          },
          "execution_count": 3,
          "metadata": {},
          "output_type": "execute_result"
        }
      ],
      "source": [
        "cfg"
      ]
    },
    {
      "cell_type": "code",
      "execution_count": 4,
      "id": "a020b975",
      "metadata": {},
      "outputs": [
        {
          "data": {
            "text/plain": [
              "omegaconf.dictconfig.DictConfig"
            ]
          },
          "execution_count": 4,
          "metadata": {},
          "output_type": "execute_result"
        }
      ],
      "source": [
        "type(cfg)"
      ]
    },
    {
      "cell_type": "code",
      "execution_count": null,
      "id": "82427b45",
      "metadata": {
        "id": "82427b45",
        "outputId": "4eb3eb9d-941f-4e72-a152-128d8965d54d"
      },
      "outputs": [
        {
          "name": "stdout",
          "output_type": "stream",
          "text": [
            "dataset:\n",
            "  name: medalpaca/medical_meadow_medical_flashcards\n",
            "model:\n",
            "  name: EleutherAI/pythia-70m\n",
            "  quantization: 4\n",
            "  gradient_checkpointing: true\n",
            "  use_fast_tokenizer: true\n",
            "  lora:\n",
            "    peft_lora_r: 16\n",
            "    peft_lora_alpha: 64\n",
            "    target_modules: null\n",
            "train:\n",
            "  num_rounds: ${flower.num_rounds}\n",
            "  save_every_round: 5\n",
            "  learning_rate_max: 5.0e-05\n",
            "  learning_rate_min: 1.0e-06\n",
            "  seq_length: 512\n",
            "  padding_side: left\n",
            "  evaluate_split: false\n",
            "  training_arguments:\n",
            "    output_dir: null\n",
            "    learning_rate: null\n",
            "    per_device_train_batch_size: 2\n",
            "    gradient_accumulation_steps: 1\n",
            "    logging_steps: 5\n",
            "    num_train_epochs: 1\n",
            "    report_to: wandb\n",
            "    run_name: pythia_70m_fedSFT_take3\n",
            "    save_steps: 1000\n",
            "    save_total_limit: 10\n",
            "    gradient_checkpointing: ${model.gradient_checkpointing}\n",
            "    lr_scheduler_type: constant\n",
            "flower:\n",
            "  num_clients: 20\n",
            "  num_rounds: 2\n",
            "  fraction_fit: 0.2\n",
            "  client_resources:\n",
            "    num_cpus: 4\n",
            "    num_gpus: 1.0\n",
            "  dp:\n",
            "    noise_mult: 0.02\n",
            "    clip_norm: 0.5\n",
            "\n"
          ]
        }
      ],
      "source": [
        "print_config(cfg)"
      ]
    },
    {
      "cell_type": "markdown",
      "id": "218d074b",
      "metadata": {
        "id": "218d074b"
      },
      "source": [
        "## 👨‍🍳 Step 2: Prepare the Ingredients — Format and Partition Your Dataset\n",
        "\n",
        "Every chef knows the importance of prepping ingredients before cooking. In this step, we’re doing exactly that — slicing and dicing our dataset, then portioning it out evenly like we’re handing out bento boxes to 20 hungry students (aka clients).\n",
        "\n",
        "📦 What this does:\n",
        "- 🔪 format_dataset: Cleans and standardizes column names so all partitions speak the same language.\n",
        "- 📦 IidPartitioner: Splits the dataset evenly across clients.\n",
        "- 🍱 FederatedDataset: Applies the partitioning and prepares it for training.\n",
        "- 📊 visualize_partitions: (Optional) Lets us peek at how evenly data is spread.\n",
        "\n",
        "> PS You only need to do this if you're running a Flower simulation. In real production events you have 20 different servers with different datasets! Here we are simulating 20 different servers so that we can run it in a Jupyter Notebook."
      ]
    },
    {
      "cell_type": "code",
      "execution_count": null,
      "id": "bdbb33ad",
      "metadata": {
        "id": "bdbb33ad"
      },
      "outputs": [],
      "source": [
        "from flwr_datasets import FederatedDataset\n",
        "from flwr_datasets.partitioner import IidPartitioner\n",
        "import matplotlib.pyplot as plt\n",
        "\n",
        "def format_dataset(dataset):\n",
        "    \"\"\"Helper function to format the dataset\"\"\"\n",
        "\n",
        "    dataset = dataset.remove_columns(['instruction'])\n",
        "    dataset = dataset.rename_column(\"output\", \"response\")\n",
        "    dataset = dataset.rename_column(\"input\", \"instruction\")\n",
        "    return dataset\n",
        "\n",
        "def visualize_partitions(fed_dataset: FederatedDataset):\n",
        "    \"\"\"Helper function to visualize the partitions of the dataset\"\"\"\n",
        "\n",
        "    _ = fed_dataset.load_partition(0)\n",
        "    num_partitions = fed_dataset.partitioners['train'].num_partitions\n",
        "\n",
        "    plt.bar(range(num_partitions), [len(fed_dataset.load_partition(i)) for i in range(num_partitions)])\n",
        "    plt.xticks(range(num_partitions))\n",
        "    plt.xlabel(\"Partition ID\")\n",
        "    plt.ylabel(\"Number of examples\")\n",
        "    plt.title(f\"IID partitioning into {num_partitions} partitions\")"
      ]
    },
    {
      "cell_type": "code",
      "execution_count": null,
      "id": "b6ea27b3",
      "metadata": {
        "id": "b6ea27b3",
        "outputId": "d636d015-f830-438a-ecb0-fda2727358db"
      },
      "outputs": [
        {
          "data": {
            "text/plain": [
              "Dataset({\n",
              "    features: ['instruction', 'response'],\n",
              "    num_rows: 1698\n",
              "})"
            ]
          },
          "execution_count": 8,
          "metadata": {},
          "output_type": "execute_result"
        }
      ],
      "source": [
        "partitioner = IidPartitioner(num_partitions=cfg.flower.num_clients)\n",
        "fds = FederatedDataset(\n",
        "    dataset=cfg.dataset.name,\n",
        "    partitioners={\"train\": partitioner}\n",
        ")\n",
        "\n",
        "partition_zero = fds.load_partition(0)\n",
        "\n",
        "format_dataset(partition_zero)"
      ]
    },
    {
      "cell_type": "code",
      "execution_count": null,
      "id": "eb53e724",
      "metadata": {
        "id": "eb53e724",
        "outputId": "d5950629-49ff-4a88-ff0b-c30b890b7a1d"
      },
      "outputs": [
        {
          "data": {
            "image/png": "[encoded data removed]",
            "text/plain": [
              "<Figure size 640x480 with 1 Axes>"
            ]
          },
          "metadata": {},
          "output_type": "display_data"
        }
      ],
      "source": [
        "visualize_partitions(fds)"
      ]
    },
    {
      "cell_type": "markdown",
      "id": "13104bd0",
      "metadata": {
        "id": "13104bd0"
      },
      "source": [
        "Okay we pretty much have even partitions!"
      ]
    },
    {
      "cell_type": "markdown",
      "id": "4e044507",
      "metadata": {
        "id": "4e044507"
      },
      "source": [
        "## 👨‍🍳 Step 3: Load the Model — Then Estimate Your Grocery Bill\n",
        "\n",
        "Now that we’ve got our ingredients sorted and divided, it’s time to prep the kitchen. Here, we load our model, apply the right quantization, and plug in LoRA adapters to make training lighter. Then we run a quick cost check — like scanning your grocery basket before checkout.\n",
        "\n",
        "📦 What this does:\n",
        "- 🧠 Loads your pretrained model (e.g., Mistral, LLaMA).\n",
        "- 💾 Applies quantization for lower memory use (4-bit/8-bit).\n",
        "- 🎯 Attaches LoRA adapters — a “just train these few layers” approach.\n",
        "- 🧮 Calculates communication costs for 20 simulated clients, across multiple federated rounds.\n",
        "\n",
        "> 📈 Why this matters:\n",
        "> Federated fine-tuning isn’t just about accuracy — it’s also about efficiency. Uploading 7B parameters to 20 clients for 3 rounds? The number of parameters sent by the clients to the server alone can overwhelm it. LoRA cuts that cost by 20x–100x. It's best to have a helper function to budget your bandwidth before the federated feast begins."
      ]
    },
    {
      "cell_type": "code",
      "execution_count": null,
      "id": "caa99ca9",
      "metadata": {
        "id": "caa99ca9"
      },
      "outputs": [],
      "source": [
        "import torch\n",
        "from transformers import (\n",
        "    AutoModelForCausalLM,\n",
        "    AutoTokenizer,\n",
        "    BitsAndBytesConfig\n",
        ")\n",
        "from peft import (\n",
        "    LoraConfig,\n",
        "    get_peft_model,\n",
        "    get_peft_model_state_dict,\n",
        "    set_peft_model_state_dict,\n",
        ")\n",
        "from peft.utils import prepare_model_for_kbit_training\n",
        "from trl import DataCollatorForCompletionOnlyLM, SFTTrainer\n",
        "\n",
        "def get_model(model_cfg: DictConfig):\n",
        "    \"\"\"Load model with appropiate quantization config and\n",
        "    other optimizations. Notice here that we are returning the\n",
        "    LoRA model, not the full model.\"\"\"\n",
        "\n",
        "    use_cuda = torch.cuda.is_available()\n",
        "    quantization_config = None\n",
        "    model_name = model_cfg.name\n",
        "    if use_cuda:\n",
        "        if model_cfg.quantization == 4:\n",
        "            quantization_config = BitsAndBytesConfig(load_in_4bit=True)\n",
        "        elif model_cfg.quantization == 8:\n",
        "            quantization_config = BitsAndBytesConfig(load_in_8bit=True)\n",
        "        else:\n",
        "            raise ValueError(\n",
        "                f\"Use 4-bit or 8-bit quantization. You passed: {model_cfg.quantization}/\"\n",
        "            )\n",
        "\n",
        "        model_name = model_cfg.name\n",
        "\n",
        "    model = AutoModelForCausalLM.from_pretrained(\n",
        "        model_name,\n",
        "        quantization_config=quantization_config,\n",
        "        torch_dtype=torch.bfloat16,\n",
        "        low_cpu_mem_usage=True,\n",
        "        token = os.environ[\"HF_ACCESS_TOKEN\"]\n",
        "    )\n",
        "\n",
        "    if use_cuda:\n",
        "        model = prepare_model_for_kbit_training(\n",
        "            model, use_gradient_checkpointing=model_cfg.gradient_checkpointing\n",
        "        )\n",
        "\n",
        "    target_modules = model_cfg.lora.target_modules\n",
        "    if target_modules:\n",
        "        target_modules = list(target_modules)\n",
        "    peft_config = LoraConfig(\n",
        "        r=model_cfg.lora.peft_lora_r,\n",
        "        lora_alpha=model_cfg.lora.peft_lora_alpha,\n",
        "        lora_dropout=0.075,\n",
        "        task_type=\"CAUSAL_LM\",\n",
        "        target_modules=target_modules,\n",
        "    )\n",
        "\n",
        "    peft_model = get_peft_model(model, peft_config)\n",
        "    if not (use_cuda):\n",
        "        peft_model.enable_input_require_grads()\n",
        "\n",
        "    if model_cfg.gradient_checkpointing:\n",
        "        model.config.use_cache = False\n",
        "\n",
        "    return peft_model"
      ]
    },
    {
      "cell_type": "code",
      "execution_count": null,
      "id": "6cec84ee",
      "metadata": {
        "id": "6cec84ee"
      },
      "outputs": [],
      "source": [
        "def compute_communication_costs(config, comm_bw_mbps: float = 20):\n",
        "      \"\"\"\n",
        "      We use Flower's helper function to compute communication costs of federated finetuning.\n",
        "      Get ready to see the savings!\n",
        "      \"\"\"\n",
        "      model = get_model(config.model)\n",
        "\n",
        "      trainable, all_parameters = model.get_nb_trainable_parameters()\n",
        "\n",
        "      total_size = 4*all_parameters/(1024**2)\n",
        "      trainable_size = 4*trainable/(1024**2)\n",
        "\n",
        "      upload_time_total = total_size/(comm_bw_mbps/8)\n",
        "      upload_time_finetune = trainable_size/(comm_bw_mbps/8)\n",
        "\n",
        "      print(f\"Full model:\\n\\t{all_parameters/1e6:.3f} M parameters\\n\\t{total_size:.2f} MB --> upload in {upload_time_total:.2f}s @ {comm_bw_mbps}Mbps\")\n",
        "      print(f\"Finetuned model:\\n\\t{trainable/1e6:.3f} M parameters\\n\\t{trainable_size:.2f} MB --> upload in {upload_time_finetune:.2f}s @ {comm_bw_mbps}Mbps\")\n",
        "      # print(f\"In a {comm_bw_mbps} Mbps channel --> {}\")\n",
        "\n",
        "      num_rounds = config.flower.num_rounds\n",
        "      num_clients_per_round = int(config.flower.num_clients * config.flower.fraction_fit)\n",
        "      print(f\"Federated Learning setting: \"\n",
        "            f\"\\n\\tNumber of rounds: {num_rounds}\"\n",
        "            f\"\\n\\tNumber of clients per round: {num_clients_per_round}\")\n",
        "\n",
        "      print(f\"-----------------------------------------------\")\n",
        "      print(f\"Total Communication costs (Full model): {2*num_rounds*num_clients_per_round*total_size/1024:.1f} GB\")\n",
        "      print(f\"Total Communication costs (Finetuning): {2*num_rounds*num_clients_per_round*trainable_size} MB\")\n",
        "      print(f\"Communication savings: {all_parameters/trainable:.1f}x\")"
      ]
    },
    {
      "cell_type": "code",
      "execution_count": null,
      "id": "b5758864",
      "metadata": {
        "id": "b5758864",
        "outputId": "ce4893a0-7fb2-4cfb-cbdc-a081f8d12164"
      },
      "outputs": [
        {
          "name": "stdout",
          "output_type": "stream",
          "text": [
            "Full model:\n",
            "\t70.623 M parameters\n",
            "\t269.41 MB --> upload in 107.76s @ 20Mbps\n",
            "Finetuned model:\n",
            "\t0.197 M parameters\n",
            "\t0.75 MB --> upload in 0.30s @ 20Mbps\n",
            "Federated Learning setting: \n",
            "\tNumber of rounds: 2\n",
            "\tNumber of clients per round: 4\n",
            "-----------------------------------------------\n",
            "Total Communication costs (Full model): 4.2 GB\n",
            "Total Communication costs (Finetuning): 12.0 MB\n",
            "Communication savings: 359.2x\n"
          ]
        }
      ],
      "source": [
        "compute_communication_costs(cfg, comm_bw_mbps=20)"
      ]
    },
    {
      "cell_type": "markdown",
      "id": "dab6b9e3",
      "metadata": {
        "id": "dab6b9e3"
      },
      "source": [
        "We save 359x more just by PEFT-ing!"
      ]
    },
    {
      "cell_type": "markdown",
      "id": "5e8d3ae7",
      "metadata": {
        "id": "5e8d3ae7"
      },
      "source": [
        "## 👨‍🍳 Step 4: Prompt Prep — Set the Table for Fine-Tuning\n",
        "\n",
        "Before we can start cooking (i.e., training), we need to set the table properly. That means formatting the prompts, choosing the right tokenizer, and preparing a smart data collator that knows where the “response” part starts.\n",
        "\n",
        "🧠 What’s happening here:\n",
        "- 🔤 Loads the tokenizer and sets a pad token (beginning-of-sequence or end-of-sequence depending on the model).\n",
        "- 📌 Finds the location in the prompt where the model should start predicting — right after \"### Response:\".\n",
        "- 🧼 The `DataCollatorForCompletionOnlyLM` ensures that only the response gets masked for loss — so we train the model only on what it should generate."
      ]
    },
    {
      "cell_type": "code",
      "execution_count": null,
      "id": "41691bc0",
      "metadata": {
        "id": "41691bc0"
      },
      "outputs": [],
      "source": [
        "def formatting_prompts_func(example):\n",
        "    # Constructing a standard Alpaca (https://github.com/tatsu-lab/stanford_alpaca#data-release) prompt\n",
        "\n",
        "    output_texts = []\n",
        "    mssg = \"Below is an instruction that describes a task. Write a response that appropriately completes the request.\"\n",
        "    for i in range(len(example[\"instruction\"])):\n",
        "        text = f\"{mssg}\\n### Instruction:\\n{example['instruction'][i]}\\n### Response: {example['response'][i]}\"\n",
        "        output_texts.append(text)\n",
        "    return output_texts\n",
        "\n",
        "def get_tokenizer_and_data_collator_and_prompt_formatting(\n",
        "    model_name: str, use_fast: bool, padding_side: str\n",
        "):\n",
        "    # From: https://huggingface.co/docs/trl/en/sft_trainer\n",
        "    tokenizer = AutoTokenizer.from_pretrained(\n",
        "        model_name, use_fast=use_fast, padding_side=padding_side\n",
        "    )\n",
        "\n",
        "    tokenizer.pad_token = (\n",
        "        tokenizer.bos_token if padding_side == \"left\" else tokenizer.eos_token\n",
        "    )\n",
        "    response_template_with_context = \"\\n### Response:\"  # alpaca response tag\n",
        "    response_template_ids = tokenizer.encode(\n",
        "        response_template_with_context, add_special_tokens=False\n",
        "    )[2:]\n",
        "    data_collator = DataCollatorForCompletionOnlyLM(\n",
        "        response_template_ids, tokenizer=tokenizer\n",
        "    )\n",
        "\n",
        "    return tokenizer, data_collator, formatting_prompts_func"
      ]
    },
    {
      "cell_type": "code",
      "execution_count": null,
      "id": "c9a092fe",
      "metadata": {
        "id": "c9a092fe",
        "outputId": "6753cd04-d105-480c-c19d-2ed1103019dd"
      },
      "outputs": [
        {
          "name": "stderr",
          "output_type": "stream",
          "text": [
            "/home/ubuntu/fantastic-enigma/.venv/lib/python3.12/site-packages/trl/trainer/utils.py:100: DeprecationWarning: This class is deprecated and will be removed in version 0.20.0. To train on completion only, please use the parameter `completion_only_loss` of `SFTConfig` instead.\n",
            "  warnings.warn(\n"
          ]
        }
      ],
      "source": [
        "tokenizer, data_collator, formatting_prompts_func = get_tokenizer_and_data_collator_and_prompt_formatting(\n",
        "    cfg.model.name,\n",
        "    cfg.model.use_fast_tokenizer,\n",
        "    cfg.train.padding_side,\n",
        ")"
      ]
    },
    {
      "cell_type": "markdown",
      "id": "837cc82c",
      "metadata": {
        "id": "837cc82c"
      },
      "source": [
        "## 🍳 Step 5: Crafting the Flower Client – The Heartbeat of Federated Learning\n",
        "\n",
        "In the realm of federated learning, the client is not just a participant; it’s the linchpin that holds the decentralized training process together. Think of it as a dedicated chef in a distributed kitchen, each working with their unique ingredients (data) but following a shared recipe (model architecture).\n",
        "\n",
        "🧠 Understanding the Client’s Role\n",
        "\n",
        "In Flower’s architecture, each client is responsible for:\n",
        "1.\tReceiving the Global Model: The server sends the current global model parameters to the client.\n",
        "2.\tLocal Training: The client trains the model on its local dataset, ensuring data privacy and compliance with data governance policies.\n",
        "3.\tSending Updates: After training, the client sends the updated model parameters back to the server for aggregation.\n",
        "\n",
        "This process allows for collaborative model training without the need to centralize sensitive data."
      ]
    },
    {
      "cell_type": "markdown",
      "id": "6794ca25",
      "metadata": {
        "id": "6794ca25"
      },
      "source": [
        "Here's our utility function to adjust our learning rate!"
      ]
    },
    {
      "cell_type": "code",
      "execution_count": null,
      "id": "eea60408",
      "metadata": {
        "id": "eea60408"
      },
      "outputs": [],
      "source": [
        "import math\n",
        "\n",
        "def cosine_annealing(\n",
        "    current_round: int,\n",
        "    total_round: int,\n",
        "    lrate_max: float = 0.001,\n",
        "    lrate_min: float = 0.0,\n",
        ") -> float:\n",
        "    \"\"\"Implement cosine annealing learning rate schedule. Strictly speaking this\n",
        "    is not necessary.\"\"\"\n",
        "\n",
        "    cos_inner = math.pi * current_round / total_round\n",
        "    return lrate_min + 0.5 * (lrate_max - lrate_min) * (1 + math.cos(cos_inner))\n"
      ]
    },
    {
      "cell_type": "markdown",
      "id": "f4a0b8f4",
      "metadata": {
        "id": "f4a0b8f4"
      },
      "source": [
        "🛠️ Implementing the Flower Client\n",
        "\n",
        "Let’s delve into the implementation:"
      ]
    },
    {
      "cell_type": "code",
      "execution_count": null,
      "id": "dc38393d",
      "metadata": {
        "id": "dc38393d"
      },
      "outputs": [],
      "source": [
        "from flwr.common import Context\n",
        "from flwr.common.typing import NDArrays, Scalar\n",
        "from flwr.client import NumPyClient\n",
        "\n",
        "from typing import Dict, Tuple, Callable\n",
        "from collections import OrderedDict\n",
        "from trl import SFTConfig\n",
        "\n",
        "def set_parameters(model, parameters: NDArrays) -> None:\n",
        "    \"\"\"Change the parameters of the model using the given ones.\"\"\"\n",
        "\n",
        "    peft_state_dict_keys = get_peft_model_state_dict(model).keys()\n",
        "    params_dict = zip(peft_state_dict_keys, parameters)\n",
        "    state_dict = OrderedDict({k: torch.Tensor(v) for k, v in params_dict})\n",
        "    set_peft_model_state_dict(model, state_dict)\n",
        "\n",
        "class FlowerClient(NumPyClient):\n",
        "    def __init__(\n",
        "        self,\n",
        "        model_cfg: DictConfig,\n",
        "        train_cfg: DictConfig,\n",
        "        trainset,\n",
        "        tokenizer,\n",
        "        formatting_prompts_func,\n",
        "        data_collator,\n",
        "        save_path,\n",
        "    ):\n",
        "        self.device = torch.device(\"cuda:0\" if torch.cuda.is_available() else \"cpu\")\n",
        "        self.train_cfg = train_cfg\n",
        "        self.training_arguments = SFTConfig(**train_cfg.training_arguments)\n",
        "        self.tokenizer = tokenizer\n",
        "        self.formatting_prompts_func = formatting_prompts_func\n",
        "        self.data_collator = data_collator\n",
        "        self.save_path = save_path\n",
        "\n",
        "        # instantiate model\n",
        "        self.model = get_model(model_cfg)\n",
        "\n",
        "        self.trainset = trainset\n",
        "\n",
        "    def get_parameters(self, config: Dict[str, Scalar]) -> NDArrays:\n",
        "        \"\"\"Return the parameters of the current net.\"\"\"\n",
        "\n",
        "        state_dict = get_peft_model_state_dict(self.model)\n",
        "        return [val.cpu().numpy() for _, val in state_dict.items()]\n",
        "\n",
        "    def fit(\n",
        "        self, parameters: NDArrays, config: Dict[str, Scalar]\n",
        "    ) -> Tuple[NDArrays, int, Dict]:\n",
        "        \"\"\"Implement distributed fit function for a given client.\"\"\"\n",
        "        set_parameters(self.model, parameters)\n",
        "\n",
        "        new_lr = cosine_annealing(\n",
        "            int(config[\"current_round\"]),\n",
        "            self.train_cfg.num_rounds,\n",
        "            self.train_cfg.learning_rate_max,\n",
        "            self.train_cfg.learning_rate_min,\n",
        "        )\n",
        "\n",
        "        self.training_arguments.learning_rate = new_lr\n",
        "        self.training_arguments.output_dir = self.save_path\n",
        "\n",
        "        evalset = None\n",
        "        if self.train_cfg.evaluate_split:\n",
        "            train_test = self.trainset.train_test_split(test_size=0.1, seed=1234)\n",
        "            trainset = train_test['train']\n",
        "            evalset = train_test['test']\n",
        "        else:\n",
        "            trainset = self.trainset\n",
        "\n",
        "        trainer = SFTTrainer(\n",
        "            model=self.model,\n",
        "            processing_class=self.tokenizer,\n",
        "            args=self.training_arguments,\n",
        "            train_dataset=trainset,\n",
        "            eval_dataset=evalset,\n",
        "            formatting_func=self.formatting_prompts_func,\n",
        "            data_collator=self.data_collator,\n",
        "        )\n",
        "\n",
        "        metrics = {}\n",
        "        if self.train_cfg.evaluate_split:\n",
        "            eval_res = trainer.evaluate()\n",
        "            metrics['eval_loss'] = eval_res['eval_loss']\n",
        "            print(eval_res)\n",
        "\n",
        "        # Do local training\n",
        "        results = trainer.train()\n",
        "\n",
        "        metrics = {**metrics, \"train_loss\": results.training_loss}\n",
        "\n",
        "        return (\n",
        "            self.get_parameters({}),\n",
        "            len(self.trainset),\n",
        "            metrics,\n",
        "        )\n",
        "\n",
        "def gen_client_fn(\n",
        "    fds,\n",
        "    tokenizer,\n",
        "    formatting_prompts_func,\n",
        "    data_collator,\n",
        "    model_cfg: DictConfig,\n",
        "    train_cfg: DictConfig,\n",
        "    save_path: str,\n",
        ") -> Callable[[str], FlowerClient]:\n",
        "    \"\"\"Generate the client function that creates the Flower Clients.\"\"\"\n",
        "\n",
        "    def client_fn(context: Context) -> FlowerClient:\n",
        "        \"\"\"Create a Flower client representing a single organization.\"\"\"\n",
        "\n",
        "        # Let's get the partition corresponding to the i-th client\n",
        "        partition_id = int(context.node_config[\"partition-id\"])\n",
        "        client_trainset = fds.load_partition(partition_id, \"train\")\n",
        "        client_trainset = client_trainset.remove_columns([\"instruction\"])\n",
        "        client_trainset = client_trainset.rename_column(\"input\", \"instruction\")\n",
        "        client_trainset = client_trainset.rename_column(\"output\", \"response\")\n",
        "        return FlowerClient(\n",
        "            model_cfg,\n",
        "            train_cfg,\n",
        "            client_trainset,\n",
        "            tokenizer,\n",
        "            formatting_prompts_func,\n",
        "            data_collator,\n",
        "            save_path,\n",
        "        ).to_client()\n",
        "\n",
        "    return client_fn\n"
      ]
    },
    {
      "cell_type": "code",
      "execution_count": null,
      "id": "52a19b73",
      "metadata": {
        "id": "52a19b73"
      },
      "outputs": [],
      "source": [
        "from flwr.client.mod import fixedclipping_mod\n",
        "\n",
        "save_path = \"./my_fl_model\"\n",
        "client = fl.client.ClientApp(\n",
        "    client_fn=gen_client_fn(\n",
        "        fds,\n",
        "        tokenizer,\n",
        "        formatting_prompts_func,\n",
        "        data_collator,\n",
        "        cfg.model,\n",
        "        cfg.train,\n",
        "        save_path,\n",
        "    ),\n",
        "    mods=[fixedclipping_mod]\n",
        ")"
      ]
    },
    {
      "cell_type": "markdown",
      "id": "f17d1bb8",
      "metadata": {
        "id": "f17d1bb8"
      },
      "source": [
        "🔍 Key Components Explained\n",
        "- `set_parameters`: Updates the model’s parameters with those received from the server.\n",
        "- `FlowerClient` Class: Inherits from NumPyClient and implements the core methods:\n",
        "- `get_parameters`: Retrieves the current model parameters.\n",
        "- `fit`: Trains the model on local data and returns the updated parameters along with training metrics.\n",
        "- `gen_client_fn`: Generates a function to create `FlowerClient` instances, each corresponding to a unique data partition.\n"
      ]
    },
    {
      "cell_type": "markdown",
      "id": "ff69d0aa",
      "metadata": {
        "id": "ff69d0aa"
      },
      "source": [
        "### 🌐 The Bigger Picture\n",
        "\n",
        "In Flower’s architecture, the client plays a pivotal role in the federated learning process.\n",
        "\n",
        "By handling local training and maintaining data privacy, clients enable the collaborative development of robust models without the need for centralized data storage. This approach is especially beneficial in scenarios where data is sensitive or distributed across various locations.\n",
        "\n",
        "For a deeper dive into Flower’s architecture and the role of clients, you can refer to the [Flower Architecture Documentation](https://flower.ai/docs/framework/explanation-flower-architecture.html)."
      ]
    },
    {
      "cell_type": "markdown",
      "id": "66d581e8",
      "metadata": {
        "id": "66d581e8"
      },
      "source": [
        "## 🧠 Step 6: Configuring the Federated Server – Directing the Symphony 🎻\n",
        "\n",
        "While each client trains locally, the server acts as the conductor of the federated learning orchestra. It defines how rounds are configured, how model updates are aggregated, and when models are saved.\n",
        "\n",
        "This cell introduces three essential server-side functions:\n"
      ]
    },
    {
      "cell_type": "code",
      "execution_count": null,
      "id": "32b479a8",
      "metadata": {
        "id": "32b479a8"
      },
      "outputs": [],
      "source": [
        "from flwr.common import Context\n",
        "\n",
        "def get_on_fit_config():\n",
        "    \"\"\"\n",
        "    •\tPurpose: This function provides the configuration dictionary sent to each\n",
        "    client before training begins in a given round.\n",
        "\t•\tUse Case: Clients can adapt behaviors (e.g., learning rate schedules) based\n",
        "    on the current round number.\n",
        "\t•\tDesign Pattern: Returns a function (fit_config_fn) that Flower calls at each\n",
        "    round.\n",
        "\n",
        "    🧠 Analogy: This is like giving each chef a new cooking instruction every day\n",
        "    based on how many days the kitchen has been operating.\n",
        "\n",
        "    \"\"\"\n",
        "    def fit_config_fn(server_round: int):\n",
        "        fit_config = {\"current_round\": server_round}\n",
        "        return fit_config\n",
        "\n",
        "    return fit_config_fn\n",
        "\n",
        "def fit_weighted_average(metrics):\n",
        "    \"\"\"\n",
        "    •\tPurpose: Calculates a weighted average of training loss across all clients.\n",
        "    •\tMechanism:\n",
        "        •\tEach client’s training loss is scaled by the number of examples it used.\n",
        "        •\tThis ensures larger datasets have more influence on the final average.\n",
        "    •\tWhy It Matters: Without weighting, small datasets could skew the overall metric.\n",
        "\n",
        "    Example:\n",
        "    # Client 1: 100 examples, loss = 0.5 → 100 * 0.5 = 50\n",
        "    # Client 2: 200 examples, loss = 0.25 → 200 * 0.25 = 50\n",
        "    # Weighted average = (50 + 50) / (100 + 200) = 0.333\n",
        "    \"\"\"\n",
        "    # Multiply accuracy of each client by number of examples used\n",
        "    losses = [num_examples * m[\"train_loss\"] for num_examples, m in metrics]\n",
        "    examples = [num_examples for num_examples, _ in metrics]\n",
        "\n",
        "    # Aggregate and return custom metric (weighted average)\n",
        "    return {\"train_loss\": sum(losses) / sum(examples)}\n",
        "\n",
        "def get_evaluate_fn(model_cfg, save_every_round, total_round, save_path):\n",
        "    \"\"\"\n",
        "    •\tPurpose: Save the global model periodically during training.\n",
        "\t•\tConditions:\n",
        "\t•\tSkip round 0.\n",
        "\t•\tSave if it’s the final round or every n rounds (save_every_round).\n",
        "\t•\tHow:\n",
        "\t•\tReconstruct the model from the config.\n",
        "\t•\tLoad the current global parameters.\n",
        "\t•\tSave using the HuggingFace save_pretrained method.\n",
        "\n",
        "    🧠 Why This Matters: In federated learning, there’s no single centralized\n",
        "    training process. If something goes wrong, saved checkpoints are your recovery\n",
        "    point.\n",
        "\n",
        "    🔁 Return Format: Always returns 0.0, {} because evaluation is optional here\n",
        "    — the function is used mainly for checkpointing.\n",
        "    \"\"\"\n",
        "\n",
        "    def evaluate(server_round: int, parameters, config):\n",
        "        # Save model\n",
        "        if server_round != 0 and (\n",
        "            server_round == total_round or server_round % save_every_round == 0\n",
        "        ):\n",
        "            # Init model\n",
        "            model = get_model(model_cfg)\n",
        "            set_parameters(model, parameters)\n",
        "\n",
        "            model.save_pretrained(f\"{save_path}/peft_{server_round}\")\n",
        "\n",
        "        return 0.0, {}\n",
        "\n",
        "    return evaluate"
      ]
    },
    {
      "cell_type": "markdown",
      "id": "1cf78077",
      "metadata": {
        "id": "1cf78077"
      },
      "source": [
        "🧩 How It All Fits Together\n",
        "\n",
        "These functions collectively help manage the federated learning lifecycle:\n",
        "- Configure each round (get_on_fit_config)\n",
        "- Aggregate client metrics meaningfully (fit_weighted_average)\n",
        "- Persist model state safely (get_evaluate_fn)\n",
        "\n",
        "🛠️ Next Step: These will be passed into the start_server call when you launch the federated training loop."
      ]
    },
    {
      "cell_type": "markdown",
      "id": "bb713202",
      "metadata": {
        "id": "bb713202"
      },
      "source": [
        "### Building the Federated Server – Strategy with Differential Privacy 🛡️\n",
        "\n",
        "In this final piece of the federated puzzle, you define the federated learning strategy, optionally enhance it with differential privacy, and configure the server using Flower’s ServerAppComponents.\n",
        "\n",
        "Let’s break this down carefully."
      ]
    },
    {
      "cell_type": "code",
      "execution_count": null,
      "id": "a0bedbc9",
      "metadata": {
        "id": "a0bedbc9"
      },
      "outputs": [],
      "source": [
        "from flwr.server.strategy import (\n",
        "    DifferentialPrivacyClientSideFixedClipping\n",
        ")\n",
        "\n",
        "def server_fn(context: Context):\n",
        "    \"\"\"\n",
        "    This function returns a configured Flower server app, which will be passed to\n",
        "    start_simulation() later. It defines:\n",
        "\t•\tThe strategy for aggregation (FedAvg)\n",
        "\t•\tHow rounds behave (e.g., which clients to sample)\n",
        "\t•\tOptional advanced features like Differential Privacy\n",
        "    \"\"\"\n",
        "\n",
        "    # Define the Strategy\n",
        "    ## 🔁 FedAvg is the classic federated strategy where model updates are averaged\n",
        "    ## across clients.\n",
        "    strategy = fl.server.strategy.FedAvg(\n",
        "        min_available_clients=cfg.flower.num_clients, # total clients\n",
        "        fraction_fit=cfg.flower.fraction_fit, # ratio of clients to sample\n",
        "        fraction_evaluate=0.0, # No federated evaluation\n",
        "        # A (optional) function used to configure a \"fit()\" round\n",
        "        on_fit_config_fn=get_on_fit_config(),\n",
        "        # A (optional) function to aggregate metrics sent by clients\n",
        "        fit_metrics_aggregation_fn=fit_weighted_average,\n",
        "        # A (optional) function to execute on the server after each round.\n",
        "        # In this example the function only saves the global model.\n",
        "        evaluate_fn=get_evaluate_fn(\n",
        "            cfg.model,\n",
        "            cfg.train.save_every_round,\n",
        "            cfg.flower.num_rounds,\n",
        "            save_path\n",
        "        ),\n",
        "    )\n",
        "\n",
        "    # Add Differential Privacy\n",
        "    sampled_clients = cfg.flower.num_clients*strategy.fraction_fit\n",
        "    strategy = DifferentialPrivacyClientSideFixedClipping(\n",
        "        strategy,\n",
        "        noise_multiplier=cfg.flower.dp.noise_mult,\n",
        "        clipping_norm=cfg.flower.dp.clip_norm,\n",
        "        num_sampled_clients=sampled_clients\n",
        "    )\n",
        "\n",
        "    # Number of rounds to run the simulation\n",
        "    num_rounds = cfg.flower.num_rounds\n",
        "    config = fl.server.ServerConfig(num_rounds=num_rounds)\n",
        "\n",
        "    return fl.server.ServerAppComponents(strategy=strategy, config=config)"
      ]
    },
    {
      "cell_type": "markdown",
      "id": "cc0a1873",
      "metadata": {
        "id": "cc0a1873"
      },
      "source": [
        "🧩 How This Fits In\n",
        "\n",
        "You’ve now configured:\n",
        "-\tClients: What model/data they use, and how they train\n",
        "-\tServer: How updates are collected, averaged, checkpointed, and protected\n",
        "-\tStrategies: What proportion of clients participate, and how often\n",
        "\n",
        "Now we define the server app!"
      ]
    },
    {
      "cell_type": "code",
      "execution_count": null,
      "id": "2768a264",
      "metadata": {
        "id": "2768a264"
      },
      "outputs": [],
      "source": [
        "server = fl.server.ServerApp(server_fn=server_fn)"
      ]
    },
    {
      "cell_type": "markdown",
      "id": "5393745c",
      "metadata": {
        "id": "5393745c"
      },
      "source": [
        "## 🚀 Step 7: Running the Simulation — Launching Your Federated Learning System 🧠🌐\n",
        "\n",
        "At this point, all components have been prepared. This cell actually starts the simulation — kicking off the training across simulated federated clients."
      ]
    },
    {
      "cell_type": "code",
      "execution_count": null,
      "id": "534e33ea",
      "metadata": {
        "id": "534e33ea",
        "outputId": "8bdd717a-f0de-4a41-d3fc-3ca4b6eba305"
      },
      "outputs": [
        {
          "name": "stderr",
          "output_type": "stream",
          "text": [
            "\u001b[92mINFO \u001b[0m:      Starting Flower ServerApp, config: num_rounds=2, no round_timeout\n",
            "\u001b[92mINFO \u001b[0m:      \n",
            "\u001b[92mINFO \u001b[0m:      [INIT]\n",
            "\u001b[92mINFO \u001b[0m:      Requesting initial parameters from one random client\n"
          ]
        },
        {
          "name": "stderr",
          "output_type": "stream",
          "text": [
            "\u001b[92mINFO \u001b[0m:      Received initial parameters from one random client\n",
            "\u001b[92mINFO \u001b[0m:      Starting evaluation of initial global parameters\n",
            "\u001b[92mINFO \u001b[0m:      initial parameters (loss, other metrics): 0.0, {}\n",
            "\u001b[92mINFO \u001b[0m:      \n",
            "\u001b[92mINFO \u001b[0m:      [ROUND 1]\n",
            "\u001b[92mINFO \u001b[0m:      configure_fit: strategy sampled 4 clients (out of 20)\n",
            "\u001b[92mINFO \u001b[0m:      aggregate_fit: received 4 results and 0 failures\n",
            "\u001b[92mINFO \u001b[0m:      aggregate_fit: central DP noise with 0.0025 stdev added\n",
            "\u001b[92mINFO \u001b[0m:      fit progress: (1, 0.0, {}, 139.0540186750004)\n",
            "\u001b[92mINFO \u001b[0m:      configure_evaluate: no clients selected, skipping evaluation\n",
            "\u001b[92mINFO \u001b[0m:      \n",
            "\u001b[92mINFO \u001b[0m:      [ROUND 2]\n",
            "\u001b[92mINFO \u001b[0m:      configure_fit: strategy sampled 4 clients (out of 20)\n",
            "\u001b[92mINFO \u001b[0m:      aggregate_fit: received 4 results and 0 failures\n",
            "\u001b[92mINFO \u001b[0m:      aggregate_fit: central DP noise with 0.0025 stdev added\n",
            "\u001b[92mINFO \u001b[0m:      fit progress: (2, 0.0, {}, 280.93382814699726)\n",
            "\u001b[92mINFO \u001b[0m:      configure_evaluate: no clients selected, skipping evaluation\n",
            "\u001b[92mINFO \u001b[0m:      \n",
            "\u001b[92mINFO \u001b[0m:      [SUMMARY]\n",
            "\u001b[92mINFO \u001b[0m:      Run finished 2 round(s) in 280.93s\n",
            "\u001b[92mINFO \u001b[0m:      \tHistory (loss, centralized):\n",
            "\u001b[92mINFO \u001b[0m:      \t\tround 0: 0.0\n",
            "\u001b[92mINFO \u001b[0m:      \t\tround 1: 0.0\n",
            "\u001b[92mINFO \u001b[0m:      \t\tround 2: 0.0\n",
            "\u001b[92mINFO \u001b[0m:      \tHistory (metrics, distributed, fit):\n",
            "\u001b[92mINFO \u001b[0m:      \t{'train_loss': [(1, 2.3728523737255918), (2, 2.365361067125912)]}\n",
            "\u001b[92mINFO \u001b[0m:      \n"
          ]
        }
      ],
      "source": [
        "from logging import ERROR\n",
        "\n",
        "client_resources = dict(cfg.flower.client_resources)\n",
        "backend_setup = {\"logging_level\": ERROR, \"log_to_driver\": False}\n",
        "fl.simulation.run_simulation(\n",
        "    server_app=server,\n",
        "    client_app=client,\n",
        "    num_supernodes=cfg.flower.num_clients,\n",
        "    backend_config={\n",
        "        \"client_resources\": client_resources,\n",
        "        \"init_args\": backend_setup\n",
        "    }\n",
        ")"
      ]
    },
    {
      "cell_type": "markdown",
      "id": "c761c2c9",
      "metadata": {
        "id": "c761c2c9"
      },
      "source": [
        "## Upload to HuggingFace Hub"
      ]
    },
    {
      "cell_type": "code",
      "execution_count": null,
      "id": "3c22525e",
      "metadata": {
        "id": "3c22525e"
      },
      "outputs": [],
      "source": [
        "from transformers import AutoModelForCausalLM, BitsAndBytesConfig\n",
        "from peft import PeftModel\n",
        "import torch\n",
        "\n",
        "# 1a. Load the base 4-bit Pythia-70M\n",
        "base = AutoModelForCausalLM.from_pretrained(\n",
        "    \"EleutherAI/pythia-70m\",\n",
        "    quantization_config=BitsAndBytesConfig(load_in_4bit=True),\n",
        "    torch_dtype=torch.bfloat16,\n",
        ")"
      ]
    },
    {
      "cell_type": "code",
      "execution_count": null,
      "id": "13f34d86",
      "metadata": {
        "id": "13f34d86"
      },
      "outputs": [],
      "source": [
        "# 1b. Wrap it with your federated fine-tuned adapter\n",
        "peft_model = PeftModel.from_pretrained(\n",
        "    base,\n",
        "    \"my_fl_model/peft_2\",    # path to your adapter folder\n",
        "    is_trainable=False       # inference only\n",
        ")"
      ]
    },
    {
      "cell_type": "code",
      "execution_count": null,
      "id": "7cea4387",
      "metadata": {
        "id": "7cea4387"
      },
      "outputs": [],
      "source": [
        "merged_model = peft_model.merge_and_unload()"
      ]
    },
    {
      "cell_type": "markdown",
      "id": "f489ab76",
      "metadata": {
        "id": "f489ab76"
      },
      "source": [
        "### Local save"
      ]
    },
    {
      "cell_type": "code",
      "execution_count": null,
      "id": "45ddb666",
      "metadata": {
        "id": "45ddb666",
        "outputId": "72cd1a26-99a1-4f1d-9b8e-62531f866bee"
      },
      "outputs": [
        {
          "data": {
            "text/plain": [
              "('my_fl_model/merged_pythia70m/tokenizer_config.json',\n",
              " 'my_fl_model/merged_pythia70m/special_tokens_map.json',\n",
              " 'my_fl_model/merged_pythia70m/tokenizer.json')"
            ]
          },
          "execution_count": 26,
          "metadata": {},
          "output_type": "execute_result"
        }
      ],
      "source": [
        "from transformers import AutoTokenizer\n",
        "\n",
        "# 3a. Create a local folder\n",
        "output_dir = \"my_fl_model/merged_pythia70m\"\n",
        "\n",
        "# 3b. Save merged model weights & config\n",
        "merged_model.save_pretrained(output_dir)\n",
        "\n",
        "# 3c. Also save tokenizer files for complete deployability\n",
        "tokenizer = AutoTokenizer.from_pretrained(\"EleutherAI/pythia-70m\", use_fast=True)\n",
        "tokenizer.save_pretrained(output_dir)"
      ]
    },
    {
      "cell_type": "markdown",
      "id": "a0f8a67c",
      "metadata": {
        "id": "a0f8a67c"
      },
      "source": [
        "### Push to HuggingFace Hub"
      ]
    },
    {
      "cell_type": "code",
      "execution_count": null,
      "id": "c49228da",
      "metadata": {
        "colab": {
          "referenced_widgets": [
            "cf189f471851436faebe8201ca667ef2"
          ]
        },
        "id": "c49228da",
        "outputId": "43423804-9730-4b0c-9a0c-f139c0d0af60"
      },
      "outputs": [
        {
          "data": {
            "application/vnd.jupyter.widget-view+json": {
              "model_id": "cf189f471851436faebe8201ca667ef2",
              "version_major": 2,
              "version_minor": 0
            },
            "text/plain": [
              "VBox(children=(HTML(value='<center> <img\\nsrc=https://huggingface.co/front/assets/huggingface_logo-noborder.sv…"
            ]
          },
          "metadata": {},
          "output_type": "display_data"
        }
      ],
      "source": [
        "from huggingface_hub import notebook_login\n",
        "\n",
        "# 4a. Authenticate (will prompt in notebook)\n",
        "notebook_login()"
      ]
    },
    {
      "cell_type": "code",
      "execution_count": null,
      "id": "01790c89",
      "metadata": {
        "id": "01790c89",
        "outputId": "69d217fe-ae30-4661-9e3b-e0fc3d65ca9f"
      },
      "outputs": [
        {
          "data": {
            "text/plain": [
              "RepoUrl('https://huggingface.co/tituslhy/pythia-70m-federated_finetuned', endpoint='https://huggingface.co', repo_type='model', repo_id='tituslhy/pythia-70m-federated_finetuned')"
            ]
          },
          "execution_count": 30,
          "metadata": {},
          "output_type": "execute_result"
        }
      ],
      "source": [
        "from huggingface_hub import create_repo\n",
        "\n",
        "create_repo(repo_id=\"tituslhy/pythia-70m-federated_finetuned\", private=False)"
      ]
    },
    {
      "cell_type": "code",
      "execution_count": null,
      "id": "b83f5cc9",
      "metadata": {
        "colab": {
          "referenced_widgets": [
            "72e5e7cb3bc84f77980b3a2588ef345b"
          ]
        },
        "id": "b83f5cc9",
        "outputId": "43efd0a7-4b98-45cc-c888-d449a4ce73ec"
      },
      "outputs": [
        {
          "data": {
            "application/vnd.jupyter.widget-view+json": {
              "model_id": "72e5e7cb3bc84f77980b3a2588ef345b",
              "version_major": 2,
              "version_minor": 0
            },
            "text/plain": [
              "model.safetensors:   0%|          | 0.00/114M [00:00<?, ?B/s]"
            ]
          },
          "metadata": {},
          "output_type": "display_data"
        },
        {
          "data": {
            "text/plain": [
              "CommitInfo(commit_url='https://huggingface.co/tituslhy/pythia-70m-federated_finetuned/commit/729de8fca6566ad1075ccee5c07095848a6a946f', commit_message='Initial commit of merged Pythia-70M model', commit_description='', oid='729de8fca6566ad1075ccee5c07095848a6a946f', pr_url=None, repo_url=RepoUrl('https://huggingface.co/tituslhy/pythia-70m-federated_finetuned', endpoint='https://huggingface.co', repo_type='model', repo_id='tituslhy/pythia-70m-federated_finetuned'), pr_revision=None, pr_num=None)"
            ]
          },
          "execution_count": 31,
          "metadata": {},
          "output_type": "execute_result"
        }
      ],
      "source": [
        "from huggingface_hub import upload_folder\n",
        "\n",
        "# 4b. Upload the entire merged folder\n",
        "upload_folder(\n",
        "    repo_id=\"tituslhy/pythia-70m-federated_finetuned\",\n",
        "    folder_path=output_dir,\n",
        "    repo_type=\"model\",\n",
        "    commit_message=\"Initial commit of merged Pythia-70M model\"\n",
        ")\n"
      ]
    },
    {
      "cell_type": "markdown",
      "id": "0918bd99",
      "metadata": {
        "id": "0918bd99"
      },
      "source": [
        "## Test LLM"
      ]
    },
    {
      "cell_type": "code",
      "execution_count": null,
      "id": "1c8c1907",
      "metadata": {
        "id": "1c8c1907"
      },
      "outputs": [],
      "source": [
        "import os\n",
        "from dotenv import load_dotenv, find_dotenv\n",
        "\n",
        "_ = load_dotenv(find_dotenv())\n",
        "HF_TOKEN = os.getenv(\"HUGGINGFACE_FACE_TOKEN\")"
      ]
    },
    {
      "cell_type": "code",
      "execution_count": 29,
      "id": "261b57c7",
      "metadata": {
        "id": "261b57c7"
      },
      "outputs": [],
      "source": [
        "from transformers import AutoTokenizer, AutoModelForCausalLM\n",
        "from llama_index.llms.huggingface import HuggingFaceLLM\n",
        "\n",
        "# Load tokenizer and model\n",
        "tokenizer = AutoTokenizer.from_pretrained(\"tituslhy/pythia-70m-federated_finetuned\")\n",
        "model = AutoModelForCausalLM.from_pretrained(\"tituslhy/pythia-70m-federated_finetuned\")\n",
        "\n",
        "# Add pad token if missing\n",
        "if tokenizer.pad_token is None:\n",
        "    tokenizer.add_special_tokens({'pad_token': '[PAD]'})\n",
        "    model.resize_token_embeddings(len(tokenizer))\n",
        "\n",
        "# Set pad_token_id\n",
        "model.config.pad_token_id = tokenizer.pad_token_id\n",
        "\n",
        "# Define generation parameters\n",
        "generate_kwargs = {\n",
        "    \"do_sample\": True,\n",
        "    \"temperature\": 0.7,\n",
        "    \"top_k\": 50,\n",
        "    \"top_p\": 0.95,\n",
        "}\n",
        "\n",
        "# Initialize HuggingFaceLLM\n",
        "llm = HuggingFaceLLM(\n",
        "    model_name=\"tituslhy/pythia-70m-federated_finetuned\",\n",
        "    tokenizer_name=\"tituslhy/pythia-70m-federated_finetuned\",\n",
        "    context_window=512,\n",
        "    generate_kwargs=generate_kwargs\n",
        ")"
      ]
    },
    {
      "cell_type": "code",
      "execution_count": 34,
      "id": "996beb47",
      "metadata": {
        "colab": {
          "base_uri": "https://localhost:8080/",
          "height": 203
        },
        "id": "996beb47",
        "outputId": "d9e2ff2b-fd96-4810-b248-42600be752ba"
      },
      "outputs": [
        {
          "name": "stderr",
          "output_type": "stream",
          "text": [
            "Setting `pad_token_id` to `eos_token_id`:0 for open-end generation.\n"
          ]
        },
        {
          "data": {
            "text/markdown": [
              "\n",
              "slightly higher levels of these patients are significantly higher (a higher level of the respective baseline serum levels of the respective patients) with higher levels of the disease than those with high levels of the patient.\n",
              "The prevalence of these patients in our study population is low in patients with a history of chronic obstructive pulmonary disease (COPD), which is one of the leading causes of death in patients of the context of cerebrovascular disease. These patients are now undergoing a second-line treatment with a combination of antiplatelet drugs and antiplatelet and cerebrovascular disease, with the latter being a significant contributor to the severity of the disease.\n",
              "The diagnosis of cerebrovascular disease is usually based on a combination of antiplatelet and cerebrovascular disease with an overall risk factor of mortality to the patients with a history of cerebral ischemia, and the highest level of cerebrovascular disease in these patients. The current diagnosis of cerebrovascular disease is often either in the context of chronic disease, or the definition of the term \"post-mortem\" as defined in this study.\n",
              "The purpose of the current study is to analyse the severity of the disease in this population, as a possible source for the case of the death of a patient with a history of cerebral ischemia and a history of cerebrovascular disease"
            ],
            "text/plain": [
              "<IPython.core.display.Markdown object>"
            ]
          },
          "metadata": {},
          "output_type": "display_data"
        }
      ],
      "source": [
        "from IPython.display import display, Markdown\n",
        "\n",
        "prompt = \"What are the management strategies for antiphospholipid syndrome?\"\n",
        "response = llm.complete(prompt)\n",
        "\n",
        "display(Markdown(str(response)))"
      ]
    },
    {
      "cell_type": "code",
      "execution_count": null,
      "id": "4FfKpTqOCcj0",
      "metadata": {
        "id": "4FfKpTqOCcj0"
      },
      "outputs": [],
      "source": []
    }
  ],
  "metadata": {
    "accelerator": "GPU",
    "colab": {
      "gpuType": "T4",
      "provenance": []
    },
    "kernelspec": {
      "display_name": ".venv",
      "language": "python",
      "name": "python3"
    },
    "language_info": {
      "codemirror_mode": {
        "name": "ipython",
        "version": 3
      },
      "file_extension": ".py",
      "mimetype": "text/x-python",
      "name": "python",
      "nbconvert_exporter": "python",
      "pygments_lexer": "ipython3",
      "version": "3.12.5"
    },
    "widgets": {
      "application/vnd.jupyter.widget-state+json": {}
    }
  },
  "nbformat": 4,
  "nbformat_minor": 5
}
